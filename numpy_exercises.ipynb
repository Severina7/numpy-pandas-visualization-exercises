{
 "cells": [
  {
   "cell_type": "code",
   "execution_count": 3,
   "id": "00f95cd7",
   "metadata": {},
   "outputs": [],
   "source": [
    "import numpy as np"
   ]
  },
  {
   "cell_type": "markdown",
   "id": "36e3c889",
   "metadata": {},
   "source": [
    "#### 1. How many negative numbers are there?"
   ]
  },
  {
   "cell_type": "code",
   "execution_count": 123,
   "id": "72af18a5",
   "metadata": {
    "scrolled": true
   },
   "outputs": [
    {
     "name": "stdout",
     "output_type": "stream",
     "text": [
      "[ 4 10 12 23 -2 -1  0  0  0 -6  3 -7]\n"
     ]
    }
   ],
   "source": [
    "a = np.array([4, 10, 12, 23, -2, -1, 0, 0, 0, -6, 3, -7])"
   ]
  },
  {
   "cell_type": "code",
   "execution_count": 5,
   "id": "ed4af7b2",
   "metadata": {},
   "outputs": [
    {
     "data": {
      "text/plain": [
       "4"
      ]
     },
     "execution_count": 5,
     "metadata": {},
     "output_type": "execute_result"
    }
   ],
   "source": [
    "len(a[a < 0])"
   ]
  },
  {
   "cell_type": "markdown",
   "id": "08d221e3",
   "metadata": {},
   "source": [
    "#### 2. How many positive numbers are there?"
   ]
  },
  {
   "cell_type": "code",
   "execution_count": 34,
   "id": "b31e3c81",
   "metadata": {},
   "outputs": [
    {
     "data": {
      "text/plain": [
       "5"
      ]
     },
     "execution_count": 34,
     "metadata": {},
     "output_type": "execute_result"
    }
   ],
   "source": [
    "len(a[a > 0])"
   ]
  },
  {
   "cell_type": "markdown",
   "id": "58f57e43",
   "metadata": {},
   "source": [
    "#### 3. How many even positive numbers are there?"
   ]
  },
  {
   "cell_type": "code",
   "execution_count": 3,
   "id": "f7fa6f05",
   "metadata": {
    "scrolled": true
   },
   "outputs": [],
   "source": [
    "a = np.array([4, 10, 12, 23, -2, -1, 0, 0, 0, -6, 3, -7])"
   ]
  },
  {
   "cell_type": "code",
   "execution_count": 39,
   "id": "0fdd0d1c",
   "metadata": {},
   "outputs": [
    {
     "data": {
      "text/plain": [
       "3"
      ]
     },
     "execution_count": 39,
     "metadata": {},
     "output_type": "execute_result"
    }
   ],
   "source": [
    "len(a[(a > 0) & (a % 2 == 0)])"
   ]
  },
  {
   "cell_type": "markdown",
   "id": "b6445103",
   "metadata": {},
   "source": [
    "#### 4. If you were to add 3 to each data point, how many positive numbers would there be?"
   ]
  },
  {
   "cell_type": "code",
   "execution_count": 40,
   "id": "f5e3c859",
   "metadata": {},
   "outputs": [
    {
     "data": {
      "text/plain": [
       "array([ 7, 13, 15, 26,  1,  2,  3,  3,  3, -3,  6, -4])"
      ]
     },
     "execution_count": 40,
     "metadata": {},
     "output_type": "execute_result"
    }
   ],
   "source": [
    "a + 3"
   ]
  },
  {
   "cell_type": "code",
   "execution_count": 42,
   "id": "9485d52f",
   "metadata": {},
   "outputs": [
    {
     "data": {
      "text/plain": [
       "10"
      ]
     },
     "execution_count": 42,
     "metadata": {},
     "output_type": "execute_result"
    }
   ],
   "source": [
    "len(a[(a + 3) > 0])"
   ]
  },
  {
   "cell_type": "markdown",
   "id": "70720675",
   "metadata": {},
   "source": [
    "#### 5. If you squared each number, what would the new mean and standard deviation be?"
   ]
  },
  {
   "cell_type": "code",
   "execution_count": 124,
   "id": "43ba7a1e",
   "metadata": {},
   "outputs": [
    {
     "data": {
      "text/plain": [
       "array([ 4, 10, 12, 23, -2, -1,  0,  0,  0, -6,  3, -7])"
      ]
     },
     "execution_count": 124,
     "metadata": {},
     "output_type": "execute_result"
    }
   ],
   "source": [
    "a"
   ]
  },
  {
   "cell_type": "code",
   "execution_count": 125,
   "id": "5991e1cd",
   "metadata": {},
   "outputs": [
    {
     "data": {
      "text/plain": [
       "[array([ 16, 100, 144, 529,   4,   1,   0,   0,   0,  36,   9,  49])]"
      ]
     },
     "execution_count": 125,
     "metadata": {},
     "output_type": "execute_result"
    }
   ],
   "source": [
    "[a ** 2]"
   ]
  },
  {
   "cell_type": "code",
   "execution_count": 131,
   "id": "c8b1125b",
   "metadata": {},
   "outputs": [
    {
     "data": {
      "text/plain": [
       "74.0"
      ]
     },
     "execution_count": 131,
     "metadata": {},
     "output_type": "execute_result"
    }
   ],
   "source": [
    "squared = [a ** 2]\n",
    "np.mean(squared)"
   ]
  },
  {
   "cell_type": "code",
   "execution_count": 133,
   "id": "679d9d2b",
   "metadata": {},
   "outputs": [
    {
     "data": {
      "text/plain": [
       "144.024"
      ]
     },
     "execution_count": 133,
     "metadata": {},
     "output_type": "execute_result"
    }
   ],
   "source": [
    "np.std(squared)\n",
    "round(np.std(squared), 3)"
   ]
  },
  {
   "cell_type": "markdown",
   "id": "e4f18b99",
   "metadata": {},
   "source": [
    "6. A common statistical operation on a dataset is centering. This means to adjust the data such that the mean of the data is 0. This is done by subtracting the mean from each data point. Center the data set."
   ]
  },
  {
   "cell_type": "code",
   "execution_count": 134,
   "id": "331ce734",
   "metadata": {},
   "outputs": [
    {
     "data": {
      "text/plain": [
       "array([ 4, 10, 12, 23, -2, -1,  0,  0,  0, -6,  3, -7])"
      ]
     },
     "execution_count": 134,
     "metadata": {},
     "output_type": "execute_result"
    }
   ],
   "source": [
    "a"
   ]
  },
  {
   "cell_type": "code",
   "execution_count": 137,
   "id": "e8c2c3a2",
   "metadata": {},
   "outputs": [
    {
     "data": {
      "text/plain": [
       "3.0"
      ]
     },
     "execution_count": 137,
     "metadata": {},
     "output_type": "execute_result"
    }
   ],
   "source": [
    "mean_of_a = a.mean()\n",
    "mean_of_a"
   ]
  },
  {
   "cell_type": "code",
   "execution_count": 141,
   "id": "4ca2d39d",
   "metadata": {},
   "outputs": [
    {
     "data": {
      "text/plain": [
       "array([  1.,   7.,   9.,  20.,  -5.,  -4.,  -3.,  -3.,  -3.,  -9.,   0.,\n",
       "       -10.])"
      ]
     },
     "execution_count": 141,
     "metadata": {},
     "output_type": "execute_result"
    }
   ],
   "source": [
    "centered_a = a - mean_of_a\n",
    "centered_a"
   ]
  },
  {
   "cell_type": "code",
   "execution_count": 144,
   "id": "3b783974",
   "metadata": {},
   "outputs": [
    {
     "data": {
      "text/plain": [
       "0.0"
      ]
     },
     "execution_count": 144,
     "metadata": {},
     "output_type": "execute_result"
    }
   ],
   "source": [
    "centered_a.mean()"
   ]
  },
  {
   "cell_type": "markdown",
   "id": "2d202da5",
   "metadata": {},
   "source": [
    "7. Calculate the z-score for each data point."
   ]
  },
  {
   "cell_type": "code",
   "execution_count": 145,
   "id": "2072ca73",
   "metadata": {
    "scrolled": true
   },
   "outputs": [
    {
     "data": {
      "text/plain": [
       "array([ 0.12403473,  0.86824314,  1.11631261,  2.48069469, -0.62017367,\n",
       "       -0.49613894, -0.3721042 , -0.3721042 , -0.3721042 , -1.11631261,\n",
       "        0.        , -1.24034735])"
      ]
     },
     "execution_count": 145,
     "metadata": {},
     "output_type": "execute_result"
    }
   ],
   "source": [
    "#z_score = ((x)-(μ))/σ\n",
    "\n",
    "z_score = centered_a/a.std()\n",
    "z_score"
   ]
  },
  {
   "cell_type": "markdown",
   "id": "ade3365b",
   "metadata": {},
   "source": [
    "#### 8. More exercises"
   ]
  },
  {
   "cell_type": "code",
   "execution_count": 36,
   "id": "8d7dd813",
   "metadata": {
    "scrolled": true
   },
   "outputs": [
    {
     "ename": "SyntaxError",
     "evalue": "invalid syntax (2037733398.py, line 138)",
     "output_type": "error",
     "traceback": [
      "\u001b[0;36m  File \u001b[0;32m\"/var/folders/5k/zptdym41293159jft7y2b6cm0000gp/T/ipykernel_25729/2037733398.py\"\u001b[0;36m, line \u001b[0;32m138\u001b[0m\n\u001b[0;31m    Leave a comment\u001b[0m\n\u001b[0m    ^\u001b[0m\n\u001b[0;31mSyntaxError\u001b[0m\u001b[0;31m:\u001b[0m invalid syntax\n"
     ]
    }
   ],
   "source": [
    "# Numpy introduction\n",
    "# numpy_exercises_part_1.py\n",
    "\n",
    "import numpy as np\n",
    "# Life w/o numpy to life with numpy\n",
    "\n",
    "## Setup 1\n",
    "a = [1, 2, 3, 4, 5, 6, 7, 8, 9, 10]\n",
    "\n",
    "# Use python's built in functionality/operators to determine the following:\n",
    "# Exercise 1 - Make a variable called sum_of_a to hold the sum of all the numbers in above list\n",
    "sum_of_a = sum(a)\n",
    "# Exercise 2 - Make a variable named min_of_a to hold the minimum of all the numbers in the above list\n",
    "\n",
    "# Exercise 3 - Make a variable named max_of_a to hold the max number of all the numbers in the above list\n",
    "\n",
    "# Exercise 4 - Make a variable named mean_of_a to hold the average of all the numbers in the above list\n",
    "\n",
    "# Exercise 5 - Make a variable named product_of_a to hold the product of multiplying all the numbers in the above list together\n",
    "\n",
    "# Exercise 6 - Make a variable named squares_of_a. It should hold each number in a squared like [1, 4, 9, 16, 25...]\n",
    "\n",
    "# Exercise 7 - Make a variable named odds_in_a. It should hold only the odd numbers\n",
    "\n",
    "# Exercise 8 - Make a variable named evens_in_a. It should hold only the evens.\n",
    "\n",
    "## What about life in two dimensions? A list of lists is matrix, a table, a spreadsheet, a chessboard...\n",
    "\n",
    "\n",
    "## Setup 2: Consider what it would take to find the sum, min, max, average, sum, product, and list of squares for this list of two lists.\n",
    "b = [\n",
    "    [3, 4, 5],\n",
    "    [6, 7, 8]\n",
    "]\n",
    "\n",
    "# Exercise 1 - refactor the following to use numpy. Use sum_of_b as the variable. **Hint, you'll first need to make sure that the \"b\" variable is a numpy array**\n",
    "sum_of_b = 0\n",
    "for row in b:\n",
    "    sum_of_b += sum(row)\n",
    "\n",
    "# Exercise 2 - refactor the following to use numpy. \n",
    "min_of_b = min(b[0]) if min(b[0]) <= min(b[1]) else min(b[1])  \n",
    "\n",
    "# Exercise 3 - refactor the following maximum calculation to find the answer with numpy.\n",
    "max_of_b = max(b[0]) if max(b[0]) >= max(b[1]) else max(b[1])\n",
    "\n",
    "\n",
    "# Exercise 4 - refactor the following using numpy to find the mean of b\n",
    "mean_of_b = (sum(b[0]) + sum(b[1])) / (len(b[0]) + len(b[1]))\n",
    "\n",
    "# Exercise 5 - refactor the following to use numpy for calculating the product of all numbers multiplied together.\n",
    "product_of_b = 1\n",
    "for row in b:\n",
    "    for number in row:\n",
    "        product_of_b *= number\n",
    "\n",
    "# Exercise 6 - refactor the following to use numpy to find the list of squares \n",
    "squares_of_b = []\n",
    "for row in b:\n",
    "    for number in row:\n",
    "        squares_of_b.append(number**2)\n",
    "\n",
    "\n",
    "# Exercise 7 - refactor using numpy to determine the odds_in_b\n",
    "odds_in_b = []\n",
    "for row in b:\n",
    "    for number in row:\n",
    "        if(number % 2 != 0):\n",
    "            odds_in_b.append(number)\n",
    "\n",
    "\n",
    "# Exercise 8 - refactor the following to use numpy to filter only the even numbers\n",
    "evens_in_b = []\n",
    "for row in b:\n",
    "    for number in row:\n",
    "        if(number % 2 == 0):\n",
    "            evens_in_b.append(number)\n",
    "\n",
    "# Exercise 9 - print out the shape of the array b.\n",
    "\n",
    "# Exercise 10 - transpose the array b.\n",
    "\n",
    "# Exercise 11 - reshape the array b to be a single list of 6 numbers. (1 x 6)\n",
    "\n",
    "# Exercise 12 - reshape the array b to be a list of 6 lists, each containing only 1 number (6 x 1)\n",
    "\n",
    "## Setup 3\n",
    "c = [\n",
    "    [1, 2, 3],\n",
    "    [4, 5, 6],\n",
    "    [7, 8, 9]\n",
    "]\n",
    "\n",
    "# HINT, you'll first need to make sure that the \"c\" variable is a numpy array prior to using numpy array methods.\n",
    "# Exercise 1 - Find the min, max, sum, and product of c.\n",
    "\n",
    "# Exercise 2 - Determine the standard deviation of c.\n",
    "\n",
    "# Exercise 3 - Determine the variance of c.\n",
    "\n",
    "# Exercise 4 - Print out the shape of the array c\n",
    "\n",
    "# Exercise 5 - Transpose c and print out transposed result.\n",
    "\n",
    "# Exercise 6 - Get the dot product of the array c with c. \n",
    "\n",
    "# Exercise 7 - Write the code necessary to sum up the result of c times c transposed. Answer should be 261\n",
    "\n",
    "# Exercise 8 - Write the code necessary to determine the product of c times c transposed. Answer should be 131681894400.\n",
    "\n",
    "\n",
    "## Setup 4\n",
    "d = [\n",
    "    [90, 30, 45, 0, 120, 180],\n",
    "    [45, -90, -30, 270, 90, 0],\n",
    "    [60, 45, -45, 90, -45, 180]\n",
    "]\n",
    "\n",
    "# Exercise 1 - Find the sine of all the numbers in d\n",
    "\n",
    "# Exercise 2 - Find the cosine of all the numbers in d\n",
    "\n",
    "# Exercise 3 - Find the tangent of all the numbers in d\n",
    "\n",
    "# Exercise 4 - Find all the negative numbers in d\n",
    "\n",
    "# Exercise 5 - Find all the positive numbers in d\n",
    "\n",
    "# Exercise 6 - Return an array of only the unique numbers in d.\n",
    "\n",
    "# Exercise 7 - Determine how many unique numbers there are in d.\n",
    "\n",
    "# Exercise 8 - Print out the shape of d.\n",
    "\n",
    "# Exercise 9 - Transpose and then print out the shape of d.\n",
    "\n",
    "# Exercise 10 - Reshape d into an array of 9 x 2\n"
   ]
  },
  {
   "cell_type": "code",
   "execution_count": 37,
   "id": "1e1128ce",
   "metadata": {},
   "outputs": [],
   "source": [
    "import numpy as np"
   ]
  },
  {
   "cell_type": "markdown",
   "id": "8bbba51e",
   "metadata": {},
   "source": [
    "### Setup 1"
   ]
  },
  {
   "cell_type": "code",
   "execution_count": 76,
   "id": "8ce278f8",
   "metadata": {},
   "outputs": [],
   "source": [
    "a = np.array([1, 2, 3, 4, 5, 6, 7, 8, 9, 10])"
   ]
  },
  {
   "cell_type": "code",
   "execution_count": 40,
   "id": "6a0a9876",
   "metadata": {},
   "outputs": [
    {
     "data": {
      "text/plain": [
       "55"
      ]
     },
     "execution_count": 40,
     "metadata": {},
     "output_type": "execute_result"
    }
   ],
   "source": [
    "sum_of_a = sum(a)\n",
    "sum_of_a"
   ]
  },
  {
   "cell_type": "code",
   "execution_count": null,
   "id": "f0336232",
   "metadata": {},
   "outputs": [],
   "source": []
  },
  {
   "cell_type": "code",
   "execution_count": 42,
   "id": "5cd41ab3",
   "metadata": {},
   "outputs": [
    {
     "data": {
      "text/plain": [
       "1"
      ]
     },
     "execution_count": 42,
     "metadata": {},
     "output_type": "execute_result"
    }
   ],
   "source": [
    "min_of_a = min(a)\n",
    "min_of_a"
   ]
  },
  {
   "cell_type": "code",
   "execution_count": null,
   "id": "37d36b3b",
   "metadata": {},
   "outputs": [],
   "source": []
  },
  {
   "cell_type": "code",
   "execution_count": 44,
   "id": "7dc0fac0",
   "metadata": {},
   "outputs": [
    {
     "data": {
      "text/plain": [
       "10"
      ]
     },
     "execution_count": 44,
     "metadata": {},
     "output_type": "execute_result"
    }
   ],
   "source": [
    "max_of_a = max(a)\n",
    "max_of_a"
   ]
  },
  {
   "cell_type": "code",
   "execution_count": 47,
   "id": "8d637f2f",
   "metadata": {},
   "outputs": [
    {
     "data": {
      "text/plain": [
       "5.5"
      ]
     },
     "execution_count": 47,
     "metadata": {},
     "output_type": "execute_result"
    }
   ],
   "source": [
    "mean_of_a = np.mean(a)\n",
    "mean_of_a"
   ]
  },
  {
   "cell_type": "code",
   "execution_count": 50,
   "id": "cacd3e2f",
   "metadata": {},
   "outputs": [
    {
     "data": {
      "text/plain": [
       "3628800"
      ]
     },
     "execution_count": 50,
     "metadata": {},
     "output_type": "execute_result"
    }
   ],
   "source": [
    "product_of_a = np.product(a)\n",
    "product_of_a"
   ]
  },
  {
   "cell_type": "code",
   "execution_count": 64,
   "id": "7de876ef",
   "metadata": {},
   "outputs": [
    {
     "data": {
      "text/plain": [
       "array([  1,   4,   9,  16,  25,  36,  49,  64,  81, 100])"
      ]
     },
     "execution_count": 64,
     "metadata": {},
     "output_type": "execute_result"
    }
   ],
   "source": [
    "squares_of_a = np.square(a)\n",
    "squares_of_a"
   ]
  },
  {
   "cell_type": "code",
   "execution_count": 84,
   "id": "28e7276d",
   "metadata": {},
   "outputs": [
    {
     "data": {
      "text/plain": [
       "array([ True, False,  True, False,  True, False,  True, False,  True,\n",
       "       False])"
      ]
     },
     "execution_count": 84,
     "metadata": {},
     "output_type": "execute_result"
    }
   ],
   "source": [
    "odds_in_a = (a % 2 == 1)\n",
    "odds_in_a"
   ]
  },
  {
   "cell_type": "code",
   "execution_count": 87,
   "id": "ab5b3243",
   "metadata": {},
   "outputs": [
    {
     "data": {
      "text/plain": [
       "array([False,  True, False,  True, False,  True, False,  True, False,\n",
       "        True])"
      ]
     },
     "execution_count": 87,
     "metadata": {},
     "output_type": "execute_result"
    }
   ],
   "source": [
    "evens_in_a = (a % 2 == 0)\n",
    "evens_in_a"
   ]
  },
  {
   "cell_type": "markdown",
   "id": "ecf1e9ce",
   "metadata": {},
   "source": [
    "### Setup 2"
   ]
  },
  {
   "cell_type": "code",
   "execution_count": 92,
   "id": "21b7614b",
   "metadata": {},
   "outputs": [
    {
     "data": {
      "text/plain": [
       "array([[3, 4, 5],\n",
       "       [6, 7, 8]])"
      ]
     },
     "execution_count": 92,
     "metadata": {},
     "output_type": "execute_result"
    }
   ],
   "source": [
    "b = [\n",
    "    [3, 4, 5],\n",
    "    [6, 7, 8]\n",
    "]\n",
    "\n",
    "np.array([\n",
    "    [3, 4, 5],\n",
    "    [6, 7, 8]\n",
    "])"
   ]
  },
  {
   "cell_type": "code",
   "execution_count": 106,
   "id": "1b70d589",
   "metadata": {},
   "outputs": [],
   "source": [
    "b = np.array([\n",
    "    [3, 4, 5],\n",
    "    [6, 7, 8]\n",
    "])"
   ]
  },
  {
   "cell_type": "markdown",
   "id": "c93362f2",
   "metadata": {},
   "source": [
    "#### Exercise 1 - refactor the following to use numpy. Use sum_of_b as the variable."
   ]
  },
  {
   "cell_type": "code",
   "execution_count": 101,
   "id": "6da0f6b3",
   "metadata": {},
   "outputs": [
    {
     "data": {
      "text/plain": [
       "33"
      ]
     },
     "execution_count": 101,
     "metadata": {},
     "output_type": "execute_result"
    }
   ],
   "source": [
    "sum_of_b = np.sum(b)\n",
    "sum_of_b"
   ]
  },
  {
   "cell_type": "markdown",
   "id": "187b194e",
   "metadata": {},
   "source": [
    "#### Exercise 2 - refactor the following to use numpy. "
   ]
  },
  {
   "cell_type": "code",
   "execution_count": 93,
   "id": "b330caea",
   "metadata": {},
   "outputs": [
    {
     "data": {
      "text/plain": [
       "[3, 4, 5]"
      ]
     },
     "execution_count": 93,
     "metadata": {},
     "output_type": "execute_result"
    }
   ],
   "source": [
    "min_of_b = min(b)\n",
    "min_of_b"
   ]
  },
  {
   "cell_type": "markdown",
   "id": "fd2e659f",
   "metadata": {},
   "source": [
    "#### Exercise 3 - refactor the following maximum calculation to find the answer with numpy."
   ]
  },
  {
   "cell_type": "code",
   "execution_count": 103,
   "id": "25ec95e7",
   "metadata": {},
   "outputs": [],
   "source": [
    "max_of_b = max(b)\n",
    "max_of_b"
   ]
  },
  {
   "cell_type": "markdown",
   "id": "038ac1f3",
   "metadata": {},
   "source": [
    "#### Exercise 4 - refactor the following using numpy to find the mean of b"
   ]
  },
  {
   "cell_type": "markdown",
   "id": "7b6619fb",
   "metadata": {},
   "source": [
    "#### Exercise 5 - refactor the following to use numpy for calculating the product of all numbers multiplied together."
   ]
  },
  {
   "cell_type": "code",
   "execution_count": 102,
   "id": "ec767f3d",
   "metadata": {},
   "outputs": [
    {
     "data": {
      "text/plain": [
       "20160"
      ]
     },
     "execution_count": 102,
     "metadata": {},
     "output_type": "execute_result"
    }
   ],
   "source": [
    "product_of_b = np.product(b)\n",
    "product_of_b"
   ]
  },
  {
   "cell_type": "code",
   "execution_count": 104,
   "id": "be605e0c",
   "metadata": {},
   "outputs": [
    {
     "data": {
      "text/plain": [
       "5.5"
      ]
     },
     "execution_count": 104,
     "metadata": {},
     "output_type": "execute_result"
    }
   ],
   "source": [
    "product_of_b = np.average(b)\n",
    "product_of_b"
   ]
  },
  {
   "cell_type": "markdown",
   "id": "bfeaf4f0",
   "metadata": {},
   "source": [
    "#### Exercise 6 - refactor the following to use numpy to find the list of squares "
   ]
  },
  {
   "cell_type": "code",
   "execution_count": 100,
   "id": "12b4bb59",
   "metadata": {},
   "outputs": [
    {
     "data": {
      "text/plain": [
       "array([[ 9, 16, 25],\n",
       "       [36, 49, 64]])"
      ]
     },
     "execution_count": 100,
     "metadata": {},
     "output_type": "execute_result"
    }
   ],
   "source": [
    "squares_of_b = np.square(b)\n",
    "squares_of_b"
   ]
  },
  {
   "cell_type": "markdown",
   "id": "08315865",
   "metadata": {},
   "source": [
    "#### Exercise 7 - refactor using numpy to determine the odds_in_b"
   ]
  },
  {
   "cell_type": "code",
   "execution_count": 107,
   "id": "625a2520",
   "metadata": {},
   "outputs": [
    {
     "data": {
      "text/plain": [
       "array([[ True, False,  True],\n",
       "       [False,  True, False]])"
      ]
     },
     "execution_count": 107,
     "metadata": {},
     "output_type": "execute_result"
    }
   ],
   "source": [
    "odds_in_b = (b % 2 != 0)\n",
    "odds_in_b"
   ]
  },
  {
   "cell_type": "markdown",
   "id": "27fa5cef",
   "metadata": {},
   "source": [
    "#### Exercise 8 - refactor the following to use numpy to filter only the even numbers"
   ]
  },
  {
   "cell_type": "code",
   "execution_count": 109,
   "id": "265b2a07",
   "metadata": {},
   "outputs": [
    {
     "data": {
      "text/plain": [
       "array([[False,  True, False],\n",
       "       [ True, False,  True]])"
      ]
     },
     "execution_count": 109,
     "metadata": {},
     "output_type": "execute_result"
    }
   ],
   "source": [
    "evens_in_b = (b % 2 == 0)\n",
    "evens_in_b"
   ]
  },
  {
   "cell_type": "markdown",
   "id": "46f18a2a",
   "metadata": {},
   "source": [
    "#### Exercise 9 - print out the shape of the array b."
   ]
  },
  {
   "cell_type": "code",
   "execution_count": 110,
   "id": "f83976ac",
   "metadata": {},
   "outputs": [
    {
     "name": "stdout",
     "output_type": "stream",
     "text": [
      "(2, 3)\n"
     ]
    }
   ],
   "source": [
    "print(b.shape)"
   ]
  },
  {
   "cell_type": "markdown",
   "id": "7889f014",
   "metadata": {},
   "source": [
    "#### Exercise 10 - transpose the array b."
   ]
  },
  {
   "cell_type": "code",
   "execution_count": 111,
   "id": "789adcba",
   "metadata": {},
   "outputs": [
    {
     "data": {
      "text/plain": [
       "array([[3, 6],\n",
       "       [4, 7],\n",
       "       [5, 8]])"
      ]
     },
     "execution_count": 111,
     "metadata": {},
     "output_type": "execute_result"
    }
   ],
   "source": [
    "np.transpose(b)"
   ]
  },
  {
   "cell_type": "markdown",
   "id": "ec3da2da",
   "metadata": {},
   "source": [
    "#### Exercise 11 - reshape the array b to be a single list of 6 numbers. (1 x 6)"
   ]
  },
  {
   "cell_type": "markdown",
   "id": "f338cef4",
   "metadata": {},
   "source": [
    "#### Exercise 12 - reshape the array b to be a list of 6 lists, each containing only 1 number (6 x 1)"
   ]
  },
  {
   "cell_type": "markdown",
   "id": "6fe6d023",
   "metadata": {},
   "source": [
    "### Setup 3"
   ]
  },
  {
   "cell_type": "code",
   "execution_count": null,
   "id": "0323d350",
   "metadata": {},
   "outputs": [],
   "source": [
    "c = [\n",
    "    [1, 2, 3],\n",
    "    [4, 5, 6],\n",
    "    [7, 8, 9]\n",
    "]"
   ]
  },
  {
   "cell_type": "markdown",
   "id": "2bb36873",
   "metadata": {},
   "source": [
    "#### Exercise 1 - Find the min, max, sum, and product of c."
   ]
  },
  {
   "cell_type": "markdown",
   "id": "741f444f",
   "metadata": {},
   "source": [
    "#### Exercise 2 - Determine the standard deviation of c."
   ]
  },
  {
   "cell_type": "markdown",
   "id": "605e4ea7",
   "metadata": {},
   "source": [
    "#### Exercise 3 - Determine the variance of c."
   ]
  },
  {
   "cell_type": "markdown",
   "id": "b48e831f",
   "metadata": {},
   "source": [
    "#### Exercise 4 - Print out the shape of the array c"
   ]
  },
  {
   "cell_type": "markdown",
   "id": "0254ec91",
   "metadata": {},
   "source": [
    "#### Exercise 5 - Transpose c and print out transposed result."
   ]
  },
  {
   "cell_type": "markdown",
   "id": "ab267020",
   "metadata": {},
   "source": [
    "#### Exercise 6 - Get the dot product of the array c with c."
   ]
  },
  {
   "cell_type": "markdown",
   "id": "069a1e82",
   "metadata": {},
   "source": [
    "#### Exercise 7 - Write the code necessary to sum up the result of c times c transposed. Answer should be 261"
   ]
  },
  {
   "cell_type": "markdown",
   "id": "64d4ea31",
   "metadata": {},
   "source": [
    "#### Exercise 8 - Write the code necessary to determine the product of c times c transposed. Answer should be 131681894400."
   ]
  },
  {
   "cell_type": "markdown",
   "id": "f6ad21db",
   "metadata": {},
   "source": [
    "### Setup 4"
   ]
  },
  {
   "cell_type": "code",
   "execution_count": null,
   "id": "a8c23428",
   "metadata": {},
   "outputs": [],
   "source": [
    "d = [\n",
    "    [90, 30, 45, 0, 120, 180],\n",
    "    [45, -90, -30, 270, 90, 0],\n",
    "    [60, 45, -45, 90, -45, 180]\n",
    "]"
   ]
  },
  {
   "cell_type": "markdown",
   "id": "dbf56bb8",
   "metadata": {},
   "source": [
    "#### Exercise 1 - Find the sine of all the numbers in d"
   ]
  },
  {
   "cell_type": "markdown",
   "id": "86e50cd1",
   "metadata": {},
   "source": [
    "#### Exercise 2 - Find the cosine of all the numbers in d"
   ]
  },
  {
   "cell_type": "markdown",
   "id": "bb756c4d",
   "metadata": {},
   "source": [
    "#### Exercise 3 - Find the tangent of all the numbers in d"
   ]
  },
  {
   "cell_type": "markdown",
   "id": "64ed1c37",
   "metadata": {},
   "source": [
    "#### Exercise 4 - Find all the negative numbers in d"
   ]
  },
  {
   "cell_type": "markdown",
   "id": "c9dbf0ae",
   "metadata": {},
   "source": [
    "#### Exercise 5 - Find all the positive numbers in d"
   ]
  },
  {
   "cell_type": "markdown",
   "id": "a6adc8cb",
   "metadata": {},
   "source": [
    "#### Exercise 6 - Return an array of only the unique numbers in d."
   ]
  },
  {
   "cell_type": "markdown",
   "id": "1773d846",
   "metadata": {},
   "source": [
    "#### Exercise 7 - Determine how many unique numbers there are in d."
   ]
  },
  {
   "cell_type": "markdown",
   "id": "1dd7e7e6",
   "metadata": {},
   "source": [
    "#### Exercise 8 - Print out the shape of d."
   ]
  },
  {
   "cell_type": "markdown",
   "id": "0dbc5746",
   "metadata": {},
   "source": [
    "#### Exercise 9 - Transpose and then print out the shape of d."
   ]
  },
  {
   "cell_type": "markdown",
   "id": "88b0b1e8",
   "metadata": {},
   "source": [
    "#### Exercise 10 - Reshape d into an array of 9 x 2"
   ]
  },
  {
   "cell_type": "code",
   "execution_count": null,
   "id": "cf85373f",
   "metadata": {},
   "outputs": [],
   "source": []
  }
 ],
 "metadata": {
  "kernelspec": {
   "display_name": "Python 3 (ipykernel)",
   "language": "python",
   "name": "python3"
  },
  "language_info": {
   "codemirror_mode": {
    "name": "ipython",
    "version": 3
   },
   "file_extension": ".py",
   "mimetype": "text/x-python",
   "name": "python",
   "nbconvert_exporter": "python",
   "pygments_lexer": "ipython3",
   "version": "3.9.7"
  }
 },
 "nbformat": 4,
 "nbformat_minor": 5
}
