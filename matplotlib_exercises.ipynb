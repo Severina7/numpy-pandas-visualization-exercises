{
 "cells": [
  {
   "cell_type": "markdown",
   "id": "a455e1f9",
   "metadata": {},
   "source": [
    "#### Matplotlib exercises"
   ]
  },
  {
   "cell_type": "code",
   "execution_count": 2,
   "id": "f519f29c",
   "metadata": {},
   "outputs": [
    {
     "name": "stdout",
     "output_type": "stream",
     "text": [
      "<module 'matplotlib.pyplot' from '/opt/homebrew/anaconda3/lib/python3.9/site-packages/matplotlib/pyplot.py'>\n"
     ]
    }
   ],
   "source": [
    "import matplotlib.pyplot as plt\n",
    "print(plt)"
   ]
  },
  {
   "cell_type": "code",
   "execution_count": 3,
   "id": "f735cc2b",
   "metadata": {},
   "outputs": [],
   "source": [
    "import math"
   ]
  },
  {
   "cell_type": "markdown",
   "id": "20af554c",
   "metadata": {},
   "source": [
    "- Use matplotlib to plot the following equation:\n",
    "\n",
    "y = x^2−x+2"
   ]
  },
  {
   "cell_type": "code",
   "execution_count": 39,
   "id": "a7b531ef",
   "metadata": {},
   "outputs": [
    {
     "data": {
      "image/png": "[encoded data removed]",
      "text/plain": [
       "<Figure size 360x216 with 1 Axes>"
      ]
     },
     "metadata": {
      "needs_background": "light"
     },
     "output_type": "display_data"
    }
   ],
   "source": [
    "x = range(-10, 10)\n",
    "y = []\n",
    "\n",
    "for val in x:\n",
    "    y.append((val**2 - val + 2))\n",
    "y = [(x**2 + x + 2) for x in x]\n",
    "fig = plt.figure(figsize = (5, 3))\n",
    "plt.plot(x, y)\n",
    "plt.show()"
   ]
  },
  {
   "cell_type": "markdown",
   "id": "59341761",
   "metadata": {},
   "source": [
    "2. Create and label 4 separate charts for the following equations (choose a range for x that makes sense):\n",
    "\n",
    "- y = √x\n",
    "- y = x3\n",
    "- y = 2x\n",
    "- y = 1/(x+1)\n"
   ]
  },
  {
   "cell_type": "code",
   "execution_count": 38,
   "id": "93d80704",
   "metadata": {},
   "outputs": [
    {
     "data": {
      "image/png": "[encoded data removed]",
      "text/plain": [
       "<Figure size 360x216 with 1 Axes>"
      ]
     },
     "metadata": {
      "needs_background": "light"
     },
     "output_type": "display_data"
    }
   ],
   "source": [
    "x = range(50, 60)\n",
    "y = []\n",
    "\n",
    "for val in x:\n",
    "    y.append(math.sqrt(val))\n",
    "x = range(50, 60) \n",
    "y = [(math.sqrt(val)) for x in x]\n",
    "fig = plt.figure(figsize = (5, 3))\n",
    "plt.plot(x, y)\n",
    "plt.show()"
   ]
  },
  {
   "cell_type": "code",
   "execution_count": null,
   "id": "281669d9",
   "metadata": {},
   "outputs": [],
   "source": []
  }
 ],
 "metadata": {
  "kernelspec": {
   "display_name": "Python 3 (ipykernel)",
   "language": "python",
   "name": "python3"
  },
  "language_info": {
   "codemirror_mode": {
    "name": "ipython",
    "version": 3
   },
   "file_extension": ".py",
   "mimetype": "text/x-python",
   "name": "python",
   "nbconvert_exporter": "python",
   "pygments_lexer": "ipython3",
   "version": "3.9.7"
  }
 },
 "nbformat": 4,
 "nbformat_minor": 5
}
